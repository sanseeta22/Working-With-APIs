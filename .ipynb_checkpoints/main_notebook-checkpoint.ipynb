{
 "cells": [
  {
   "cell_type": "markdown",
   "metadata": {},
   "source": [
    "# Use this notebook for your 3 choices of APIs"
   ]
  },
  {
   "cell_type": "markdown",
   "metadata": {},
   "source": [
    "# Whisky Data\n",
    "\n",
    "https://whiskyhunter.net/\n",
    "\n",
    "Past online whisky auctions statistical data\n",
    "\n",
    "API Info: https://whiskyhunter.net/api/\n",
    "\n",
    "(no auth, yes hhtps)"
   ]
  },
  {
   "cell_type": "code",
   "execution_count": 13,
   "metadata": {},
   "outputs": [
    {
     "name": "stdout",
     "output_type": "stream",
     "text": [
      "200\n"
     ]
    }
   ],
   "source": [
    "import requests\n",
    "import pandas as pd\n",
    "\n",
    "url = 'https://whiskyhunter.net/api/auctions_data/'\n",
    "headers = {\n",
    "    'accept': 'application/json',\n",
    "    'X-CSRFToken': '7no6OEaBxe6oKKj1bMqmrD3hh8IxCBH1rVSk3S8x41S0V1n27sbppky4E2XG90va'\n",
    "}\n",
    "\n",
    "# Make a GET request\n",
    "response = requests.get(url, headers=headers)\n",
    "print(response.status_code)\n",
    "#print(response.content)"
   ]
  },
  {
   "cell_type": "code",
   "execution_count": 2,
   "metadata": {},
   "outputs": [],
   "source": [
    "result = response.json()\n",
    "#result # check "
   ]
  },
  {
   "cell_type": "code",
   "execution_count": 3,
   "metadata": {},
   "outputs": [
    {
     "data": {
      "text/html": [
       "<div>\n",
       "<style scoped>\n",
       "    .dataframe tbody tr th:only-of-type {\n",
       "        vertical-align: middle;\n",
       "    }\n",
       "\n",
       "    .dataframe tbody tr th {\n",
       "        vertical-align: top;\n",
       "    }\n",
       "\n",
       "    .dataframe thead th {\n",
       "        text-align: right;\n",
       "    }\n",
       "</style>\n",
       "<table border=\"1\" class=\"dataframe\">\n",
       "  <thead>\n",
       "    <tr style=\"text-align: right;\">\n",
       "      <th></th>\n",
       "      <th>dt</th>\n",
       "      <th>winning_bid_max</th>\n",
       "      <th>winning_bid_min</th>\n",
       "      <th>winning_bid_mean</th>\n",
       "      <th>auction_trading_volume</th>\n",
       "      <th>auction_lots_count</th>\n",
       "      <th>all_auctions_lots_count</th>\n",
       "      <th>auction_name</th>\n",
       "      <th>auction_slug</th>\n",
       "    </tr>\n",
       "  </thead>\n",
       "  <tbody>\n",
       "    <tr>\n",
       "      <th>0</th>\n",
       "      <td>2024-04-01</td>\n",
       "      <td>10336.9</td>\n",
       "      <td>12.9</td>\n",
       "      <td>250.20</td>\n",
       "      <td>229429.0</td>\n",
       "      <td>917</td>\n",
       "      <td>40413</td>\n",
       "      <td>Australian Whisky Auctions</td>\n",
       "      <td>australian-whisky-auctions</td>\n",
       "    </tr>\n",
       "    <tr>\n",
       "      <th>1</th>\n",
       "      <td>2024-04-01</td>\n",
       "      <td>8700.8</td>\n",
       "      <td>0.0</td>\n",
       "      <td>195.49</td>\n",
       "      <td>1024542.6</td>\n",
       "      <td>5241</td>\n",
       "      <td>40413</td>\n",
       "      <td>Catawiki Whisky Auction</td>\n",
       "      <td>catawiki</td>\n",
       "    </tr>\n",
       "    <tr>\n",
       "      <th>2</th>\n",
       "      <td>2024-04-01</td>\n",
       "      <td>940.2</td>\n",
       "      <td>12.8</td>\n",
       "      <td>166.94</td>\n",
       "      <td>16527.4</td>\n",
       "      <td>99</td>\n",
       "      <td>40413</td>\n",
       "      <td>Celtic Whiskey Auction</td>\n",
       "      <td>celtic-whiskey-auction</td>\n",
       "    </tr>\n",
       "    <tr>\n",
       "      <th>3</th>\n",
       "      <td>2024-04-01</td>\n",
       "      <td>4273.5</td>\n",
       "      <td>0.9</td>\n",
       "      <td>118.73</td>\n",
       "      <td>304179.2</td>\n",
       "      <td>2562</td>\n",
       "      <td>40413</td>\n",
       "      <td>Ebay Whisky Auctions</td>\n",
       "      <td>ebay-whisky-auctions</td>\n",
       "    </tr>\n",
       "    <tr>\n",
       "      <th>4</th>\n",
       "      <td>2024-04-01</td>\n",
       "      <td>1651.4</td>\n",
       "      <td>13.6</td>\n",
       "      <td>226.66</td>\n",
       "      <td>56665.8</td>\n",
       "      <td>250</td>\n",
       "      <td>40413</td>\n",
       "      <td>European Whisky Auctions</td>\n",
       "      <td>european-whisky-auctions</td>\n",
       "    </tr>\n",
       "  </tbody>\n",
       "</table>\n",
       "</div>"
      ],
      "text/plain": [
       "           dt  winning_bid_max  winning_bid_min  winning_bid_mean  \\\n",
       "0  2024-04-01          10336.9             12.9            250.20   \n",
       "1  2024-04-01           8700.8              0.0            195.49   \n",
       "2  2024-04-01            940.2             12.8            166.94   \n",
       "3  2024-04-01           4273.5              0.9            118.73   \n",
       "4  2024-04-01           1651.4             13.6            226.66   \n",
       "\n",
       "   auction_trading_volume  auction_lots_count  all_auctions_lots_count  \\\n",
       "0                229429.0                 917                    40413   \n",
       "1               1024542.6                5241                    40413   \n",
       "2                 16527.4                  99                    40413   \n",
       "3                304179.2                2562                    40413   \n",
       "4                 56665.8                 250                    40413   \n",
       "\n",
       "                 auction_name                auction_slug  \n",
       "0  Australian Whisky Auctions  australian-whisky-auctions  \n",
       "1     Catawiki Whisky Auction                    catawiki  \n",
       "2      Celtic Whiskey Auction      celtic-whiskey-auction  \n",
       "3        Ebay Whisky Auctions        ebay-whisky-auctions  \n",
       "4    European Whisky Auctions    european-whisky-auctions  "
      ]
     },
     "execution_count": 3,
     "metadata": {},
     "output_type": "execute_result"
    }
   ],
   "source": [
    "# convert JSON data to DataFrame\n",
    "df = pd.DataFrame.from_dict(result)\n",
    "df.head()"
   ]
  },
  {
   "cell_type": "markdown",
   "metadata": {},
   "source": [
    "#Data Chuck Norris Jokes\n",
    "\n",
    "https://api.chucknorris.io/\n",
    "\n",
    "Chuck Norris Jokes (no auth, yes hhtps)\n",
    "\n",
    "returns one joke at a time, but you can also check their categories and retrieve a specific joke in given category"
   ]
  },
  {
   "cell_type": "code",
   "execution_count": 4,
   "metadata": {},
   "outputs": [
    {
     "data": {
      "text/plain": [
       "'When Chuck Norris switches on his computer, it skips the bootup process and goes straight to the desktop.'"
      ]
     },
     "execution_count": 4,
     "metadata": {},
     "output_type": "execute_result"
    }
   ],
   "source": [
    "import json\n",
    "\n",
    "url = 'https://api.chucknorris.io/jokes/random'\n",
    "response = requests.get(url)\n",
    "response.content\n",
    "# turn into dict from bytestring\n",
    "decoded_string = response.content.decode('utf-8')\n",
    "my_dict = json.loads(decoded_string)\n",
    "joke = my_dict.get('value')\n",
    "joke"
   ]
  },
  {
   "cell_type": "code",
   "execution_count": 5,
   "metadata": {},
   "outputs": [],
   "source": [
    "list_jokes = []\n",
    "\n",
    "for i in range(10):\n",
    "    url = 'https://api.chucknorris.io/jokes/random'\n",
    "    response = requests.get(url)\n",
    "    decoded_string = response.content.decode('utf-8')\n",
    "    jokes_dict = json.loads(decoded_string)\n",
    "    joke = jokes_dict.get('value')\n",
    "    list_jokes.append(joke)"
   ]
  },
  {
   "cell_type": "code",
   "execution_count": 6,
   "metadata": {},
   "outputs": [
    {
     "data": {
      "text/html": [
       "<div>\n",
       "<style scoped>\n",
       "    .dataframe tbody tr th:only-of-type {\n",
       "        vertical-align: middle;\n",
       "    }\n",
       "\n",
       "    .dataframe tbody tr th {\n",
       "        vertical-align: top;\n",
       "    }\n",
       "\n",
       "    .dataframe thead th {\n",
       "        text-align: right;\n",
       "    }\n",
       "</style>\n",
       "<table border=\"1\" class=\"dataframe\">\n",
       "  <thead>\n",
       "    <tr style=\"text-align: right;\">\n",
       "      <th></th>\n",
       "      <th>Joke</th>\n",
       "    </tr>\n",
       "  </thead>\n",
       "  <tbody>\n",
       "    <tr>\n",
       "      <th>0</th>\n",
       "      <td>The color brown exists because Chuck Norris sc...</td>\n",
       "    </tr>\n",
       "    <tr>\n",
       "      <th>1</th>\n",
       "      <td>Chuck Norris is the reason NWA ran straight ou...</td>\n",
       "    </tr>\n",
       "    <tr>\n",
       "      <th>2</th>\n",
       "      <td>Fort Knox wanted to store gold in Chuck Norris...</td>\n",
       "    </tr>\n",
       "    <tr>\n",
       "      <th>3</th>\n",
       "      <td>The Illuminati still exist today only because ...</td>\n",
       "    </tr>\n",
       "    <tr>\n",
       "      <th>4</th>\n",
       "      <td>This is a web site for NEW AND ONLY NEW Chuck ...</td>\n",
       "    </tr>\n",
       "    <tr>\n",
       "      <th>5</th>\n",
       "      <td>When Chuck Norris throws a game of 'Washers' h...</td>\n",
       "    </tr>\n",
       "    <tr>\n",
       "      <th>6</th>\n",
       "      <td>Chuck Norris once stabbed a man to death with ...</td>\n",
       "    </tr>\n",
       "    <tr>\n",
       "      <th>7</th>\n",
       "      <td>Chuck Norris is so much if a man that he sees ...</td>\n",
       "    </tr>\n",
       "    <tr>\n",
       "      <th>8</th>\n",
       "      <td>Chuck Norris once performed a vasectomy on a g...</td>\n",
       "    </tr>\n",
       "    <tr>\n",
       "      <th>9</th>\n",
       "      <td>Want to end illegal immigration from all corne...</td>\n",
       "    </tr>\n",
       "  </tbody>\n",
       "</table>\n",
       "</div>"
      ],
      "text/plain": [
       "                                                Joke\n",
       "0  The color brown exists because Chuck Norris sc...\n",
       "1  Chuck Norris is the reason NWA ran straight ou...\n",
       "2  Fort Knox wanted to store gold in Chuck Norris...\n",
       "3  The Illuminati still exist today only because ...\n",
       "4  This is a web site for NEW AND ONLY NEW Chuck ...\n",
       "5  When Chuck Norris throws a game of 'Washers' h...\n",
       "6  Chuck Norris once stabbed a man to death with ...\n",
       "7  Chuck Norris is so much if a man that he sees ...\n",
       "8  Chuck Norris once performed a vasectomy on a g...\n",
       "9  Want to end illegal immigration from all corne..."
      ]
     },
     "execution_count": 6,
     "metadata": {},
     "output_type": "execute_result"
    }
   ],
   "source": [
    "jokes = pd.DataFrame(list_jokes)\n",
    "jokes.columns = ['Joke']\n",
    "jokes"
   ]
  },
  {
   "cell_type": "markdown",
   "metadata": {},
   "source": [
    "# Data UPC-Database\n",
    "\n",
    "https://upcdatabase.org/api-product-get\n",
    "\n",
    "Barcodes (authkey, yes hhtps)"
   ]
  },
  {
   "cell_type": "code",
   "execution_count": 10,
   "metadata": {},
   "outputs": [
    {
     "name": "stdin",
     "output_type": "stream",
     "text": [
      " ········\n"
     ]
    },
    {
     "name": "stdout",
     "output_type": "stream",
     "text": [
      "200\n",
      "b'{\\n    \"success\": true,\\n    \"email\": \"sanseeta.rout@gmail.com\",\\n    \"registered\": 1715079658,\\n    \"active\": 1715079658,\\n    \"score\": 0,\\n    \"banned\": false,\\n    \"apikey_count\": \"1\",\\n    \"products\": {\\n        \"added\": \"100\",\\n        \"modified\": \"25\"\\n    },\\n    \"api_subscription\": {\\n        \"active\": false\\n    },\\n    \"api_limits\": {\\n        \"lookups\": null,\\n        \"searches\": null,\\n        \"currency\": null\\n    },\\n    \"api_remain\": {\\n        \"lookups\": \"100\",\\n        \"search\": \"25\",\\n        \"currency\": \"25\"\\n    },\\n    \"api_requests\": \"1\",\\n    \"timestamp\": 1715079690\\n}'\n"
     ]
    }
   ],
   "source": [
    "import requests\n",
    "import pandas as pd\n",
    "import getpass\n",
    "apikey = getpass.getpass()\n",
    "#B379B90E996827542B5CFF69D2AF9FB7\n",
    "\n",
    "url = 'https://api.upcdatabase.org/account'\n",
    "headers = {\n",
    "    'Authorization': 'Bearer ' + apikey,\n",
    "}\n",
    "response = requests.get(url, headers=headers)\n",
    "print(response.status_code)\n",
    "print(response.content)"
   ]
  },
  {
   "cell_type": "code",
   "execution_count": 11,
   "metadata": {},
   "outputs": [
    {
     "data": {
      "text/plain": [
       "{'success': True,\n",
       " 'email': 'sanseeta.rout@gmail.com',\n",
       " 'registered': 1715079658,\n",
       " 'active': 1715079658,\n",
       " 'score': 0,\n",
       " 'banned': False,\n",
       " 'apikey_count': '1',\n",
       " 'products': {'added': '100', 'modified': '25'},\n",
       " 'api_subscription': {'active': False},\n",
       " 'api_limits': {'lookups': None, 'searches': None, 'currency': None},\n",
       " 'api_remain': {'lookups': '100', 'search': '25', 'currency': '25'},\n",
       " 'api_requests': '1',\n",
       " 'timestamp': 1715079690}"
      ]
     },
     "execution_count": 11,
     "metadata": {},
     "output_type": "execute_result"
    }
   ],
   "source": [
    "results = response.json()\n",
    "type(results)\n",
    "results"
   ]
  },
  {
   "cell_type": "code",
   "execution_count": 12,
   "metadata": {},
   "outputs": [
    {
     "data": {
      "text/html": [
       "<div>\n",
       "<style scoped>\n",
       "    .dataframe tbody tr th:only-of-type {\n",
       "        vertical-align: middle;\n",
       "    }\n",
       "\n",
       "    .dataframe tbody tr th {\n",
       "        vertical-align: top;\n",
       "    }\n",
       "\n",
       "    .dataframe thead th {\n",
       "        text-align: right;\n",
       "    }\n",
       "</style>\n",
       "<table border=\"1\" class=\"dataframe\">\n",
       "  <thead>\n",
       "    <tr style=\"text-align: right;\">\n",
       "      <th></th>\n",
       "      <th>email</th>\n",
       "      <th>banned</th>\n",
       "      <th>api_requests</th>\n",
       "    </tr>\n",
       "  </thead>\n",
       "  <tbody>\n",
       "    <tr>\n",
       "      <th>0</th>\n",
       "      <td>sanseeta.rout@gmail.com</td>\n",
       "      <td>False</td>\n",
       "      <td>1</td>\n",
       "    </tr>\n",
       "  </tbody>\n",
       "</table>\n",
       "</div>"
      ],
      "text/plain": [
       "                     email banned api_requests\n",
       "0  sanseeta.rout@gmail.com  False            1"
      ]
     },
     "execution_count": 12,
     "metadata": {},
     "output_type": "execute_result"
    }
   ],
   "source": [
    "data = pd.DataFrame.from_dict(results, orient=\"index\").T\n",
    "data = data[['email', 'banned', 'api_requests']]\n",
    "data"
   ]
  },
  {
   "cell_type": "code",
   "execution_count": null,
   "metadata": {},
   "outputs": [],
   "source": []
  },
  {
   "cell_type": "code",
   "execution_count": null,
   "metadata": {},
   "outputs": [],
   "source": []
  },
  {
   "cell_type": "code",
   "execution_count": null,
   "metadata": {},
   "outputs": [],
   "source": []
  },
  {
   "cell_type": "code",
   "execution_count": null,
   "metadata": {},
   "outputs": [],
   "source": []
  },
  {
   "cell_type": "code",
   "execution_count": null,
   "metadata": {},
   "outputs": [],
   "source": []
  },
  {
   "cell_type": "code",
   "execution_count": null,
   "metadata": {},
   "outputs": [],
   "source": []
  },
  {
   "cell_type": "code",
   "execution_count": null,
   "metadata": {},
   "outputs": [],
   "source": []
  },
  {
   "cell_type": "code",
   "execution_count": null,
   "metadata": {},
   "outputs": [],
   "source": []
  },
  {
   "cell_type": "code",
   "execution_count": null,
   "metadata": {},
   "outputs": [],
   "source": []
  },
  {
   "cell_type": "code",
   "execution_count": null,
   "metadata": {},
   "outputs": [],
   "source": []
  },
  {
   "cell_type": "code",
   "execution_count": null,
   "metadata": {},
   "outputs": [],
   "source": []
  },
  {
   "cell_type": "code",
   "execution_count": null,
   "metadata": {},
   "outputs": [],
   "source": []
  },
  {
   "cell_type": "code",
   "execution_count": null,
   "metadata": {},
   "outputs": [],
   "source": []
  },
  {
   "cell_type": "code",
   "execution_count": null,
   "metadata": {},
   "outputs": [],
   "source": []
  },
  {
   "cell_type": "code",
   "execution_count": null,
   "metadata": {},
   "outputs": [],
   "source": []
  },
  {
   "cell_type": "code",
   "execution_count": null,
   "metadata": {},
   "outputs": [],
   "source": []
  },
  {
   "cell_type": "code",
   "execution_count": null,
   "metadata": {},
   "outputs": [],
   "source": []
  },
  {
   "cell_type": "code",
   "execution_count": null,
   "metadata": {},
   "outputs": [],
   "source": []
  },
  {
   "cell_type": "code",
   "execution_count": null,
   "metadata": {},
   "outputs": [],
   "source": []
  },
  {
   "cell_type": "code",
   "execution_count": null,
   "metadata": {},
   "outputs": [],
   "source": []
  },
  {
   "cell_type": "code",
   "execution_count": null,
   "metadata": {},
   "outputs": [],
   "source": []
  },
  {
   "cell_type": "code",
   "execution_count": null,
   "metadata": {},
   "outputs": [],
   "source": []
  },
  {
   "cell_type": "code",
   "execution_count": null,
   "metadata": {},
   "outputs": [],
   "source": []
  },
  {
   "cell_type": "code",
   "execution_count": null,
   "metadata": {},
   "outputs": [],
   "source": []
  },
  {
   "cell_type": "code",
   "execution_count": null,
   "metadata": {},
   "outputs": [],
   "source": []
  }
 ],
 "metadata": {
  "kernelspec": {
   "display_name": "Python 3 (ipykernel)",
   "language": "python",
   "name": "python3"
  },
  "language_info": {
   "codemirror_mode": {
    "name": "ipython",
    "version": 3
   },
   "file_extension": ".py",
   "mimetype": "text/x-python",
   "name": "python",
   "nbconvert_exporter": "python",
   "pygments_lexer": "ipython3",
   "version": "3.11.7"
  }
 },
 "nbformat": 4,
 "nbformat_minor": 4
}
